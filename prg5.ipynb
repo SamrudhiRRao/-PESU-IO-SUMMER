{
 "cells": [
  {
   "cell_type": "code",
   "execution_count": 6,
   "metadata": {},
   "outputs": [
    {
     "name": "stdout",
     "output_type": "stream",
     "text": [
      "Enter the string: 5\n",
      "YES.\n",
      "The string is numeric\n"
     ]
    }
   ],
   "source": [
    "str=input(\"Enter the string: \")\n",
    "if str.isdigit():\n",
    "    print(\"YES.\\nThe string is numeric\")\n",
    "else:\n",
    "    print(\"NO.\\nThe string is not numeric\")"
   ]
  }
 ],
 "metadata": {
  "kernelspec": {
   "display_name": "Python 3",
   "language": "python",
   "name": "python3"
  },
  "language_info": {
   "codemirror_mode": {
    "name": "ipython",
    "version": 3
   },
   "file_extension": ".py",
   "mimetype": "text/x-python",
   "name": "python",
   "nbconvert_exporter": "python",
   "pygments_lexer": "ipython3",
   "version": "3.6.8"
  }
 },
 "nbformat": 4,
 "nbformat_minor": 2
}
