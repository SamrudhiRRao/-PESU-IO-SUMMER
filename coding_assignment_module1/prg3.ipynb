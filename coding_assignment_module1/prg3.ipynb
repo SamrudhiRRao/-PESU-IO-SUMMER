{
 "cells": [
  {
   "cell_type": "code",
   "execution_count": 6,
   "metadata": {},
   "outputs": [
    {
     "name": "stdout",
     "output_type": "stream",
     "text": [
      "Enter the lenght of the list: 5\n",
      "Enter the numbers: \n",
      "33\n",
      "44\n",
      "55\n",
      "345\n",
      "44\n",
      "[33, 44, 55, 345, 44]\n",
      "Enter the number: 44\n",
      "The number is present\n"
     ]
    }
   ],
   "source": [
    "def binarySearch(list, item):\n",
    "    low = 0\n",
    "    high = len(list)-1\n",
    "    \n",
    "\n",
    "    while low<=high :\n",
    "        mid = (low + high)//2\n",
    "        if list[mid] == item:\n",
    "           \n",
    "            return \"The number is present\"\n",
    "        else:\n",
    "            if item < list[mid]:\n",
    "                high = mid-1\n",
    "            else:\n",
    "                low = mid+1\n",
    "\n",
    "    return \"The number is not present\"\n",
    "\n",
    "length=int(input(\"Enter the lenght of the list: \"))\n",
    "print(\"Enter the numbers: \")\n",
    "l=[]\n",
    "for i in range(length):\n",
    "    n=int(input())\n",
    "    l.append(n)\n",
    "print(l)\n",
    "num=int(input(\"Enter the number: \"))\n",
    "\n",
    "print(binarySearch(l, num))\n",
    "\n"
   ]
  },
  {
   "cell_type": "code",
   "execution_count": null,
   "metadata": {},
   "outputs": [],
   "source": []
  }
 ],
 "metadata": {
  "kernelspec": {
   "display_name": "Python 3",
   "language": "python",
   "name": "python3"
  },
  "language_info": {
   "codemirror_mode": {
    "name": "ipython",
    "version": 3
   },
   "file_extension": ".py",
   "mimetype": "text/x-python",
   "name": "python",
   "nbconvert_exporter": "python",
   "pygments_lexer": "ipython3",
   "version": "3.6.8"
  }
 },
 "nbformat": 4,
 "nbformat_minor": 2
}
