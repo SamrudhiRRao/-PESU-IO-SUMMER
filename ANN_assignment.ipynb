{
 "cells": [
  {
   "cell_type": "code",
   "execution_count": 1,
   "metadata": {},
   "outputs": [
    {
     "name": "stdout",
     "output_type": "stream",
     "text": [
      "1.14.0\n"
     ]
    }
   ],
   "source": [
    "from __future__ import absolute_import, division, print_function, unicode_literals\n",
    "\n",
    "import tensorflow as tf\n",
    "from tensorflow import keras\n",
    "\n",
    "import numpy as np\n",
    "\n",
    "print(tf.__version__)"
   ]
  },
  {
   "cell_type": "code",
   "execution_count": 2,
   "metadata": {},
   "outputs": [],
   "source": [
    "imdb = keras.datasets.imdb\n",
    "\n",
    "(train_data, train_labels), (test_data, test_labels) = imdb.load_data(num_words=10000)"
   ]
  },
  {
   "cell_type": "code",
   "execution_count": 3,
   "metadata": {},
   "outputs": [
    {
     "name": "stdout",
     "output_type": "stream",
     "text": [
      "Training entries: 25000, labels: 25000\n"
     ]
    }
   ],
   "source": [
    "print(\"Training entries: {}, labels: {}\".format(len(train_data), len(train_labels)))"
   ]
  },
  {
   "cell_type": "code",
   "execution_count": 4,
   "metadata": {},
   "outputs": [
    {
     "name": "stdout",
     "output_type": "stream",
     "text": [
      "[1, 14, 22, 16, 43, 530, 973, 1622, 1385, 65, 458, 4468, 66, 3941, 4, 173, 36, 256, 5, 25, 100, 43, 838, 112, 50, 670, 2, 9, 35, 480, 284, 5, 150, 4, 172, 112, 167, 2, 336, 385, 39, 4, 172, 4536, 1111, 17, 546, 38, 13, 447, 4, 192, 50, 16, 6, 147, 2025, 19, 14, 22, 4, 1920, 4613, 469, 4, 22, 71, 87, 12, 16, 43, 530, 38, 76, 15, 13, 1247, 4, 22, 17, 515, 17, 12, 16, 626, 18, 2, 5, 62, 386, 12, 8, 316, 8, 106, 5, 4, 2223, 5244, 16, 480, 66, 3785, 33, 4, 130, 12, 16, 38, 619, 5, 25, 124, 51, 36, 135, 48, 25, 1415, 33, 6, 22, 12, 215, 28, 77, 52, 5, 14, 407, 16, 82, 2, 8, 4, 107, 117, 5952, 15, 256, 4, 2, 7, 3766, 5, 723, 36, 71, 43, 530, 476, 26, 400, 317, 46, 7, 4, 2, 1029, 13, 104, 88, 4, 381, 15, 297, 98, 32, 2071, 56, 26, 141, 6, 194, 7486, 18, 4, 226, 22, 21, 134, 476, 26, 480, 5, 144, 30, 5535, 18, 51, 36, 28, 224, 92, 25, 104, 4, 226, 65, 16, 38, 1334, 88, 12, 16, 283, 5, 16, 4472, 113, 103, 32, 15, 16, 5345, 19, 178, 32]\n"
     ]
    }
   ],
   "source": [
    "print(train_data[0])"
   ]
  },
  {
   "cell_type": "code",
   "execution_count": 5,
   "metadata": {},
   "outputs": [
    {
     "data": {
      "text/plain": [
       "(218, 189)"
      ]
     },
     "execution_count": 5,
     "metadata": {},
     "output_type": "execute_result"
    }
   ],
   "source": [
    "len(train_data[0]), len(train_data[1])"
   ]
  },
  {
   "cell_type": "code",
   "execution_count": 6,
   "metadata": {},
   "outputs": [],
   "source": [
    "word_index = imdb.get_word_index()\n",
    "\n",
    "# The first indices are reserved\n",
    "word_index = {k:(v+3) for k,v in word_index.items()}\n",
    "word_index[\"<PAD>\"] = 0\n",
    "word_index[\"<START>\"] = 1\n",
    "word_index[\"<UNK>\"] = 2  # unknown\n",
    "word_index[\"<UNUSED>\"] = 3\n",
    "\n",
    "reverse_word_index = dict([(value, key) for (key, value) in word_index.items()])\n",
    "\n",
    "def decode_review(text):\n",
    "    return ' '.join([reverse_word_index.get(i, '?') for i in text])"
   ]
  },
  {
   "cell_type": "code",
   "execution_count": 7,
   "metadata": {},
   "outputs": [
    {
     "data": {
      "text/plain": [
       "\"<START> this film was just brilliant casting location scenery story direction everyone's really suited the part they played and you could just imagine being there robert <UNK> is an amazing actor and now the same being director <UNK> father came from the same scottish island as myself so i loved the fact there was a real connection with this film the witty remarks throughout the film were great it was just brilliant so much that i bought the film as soon as it was released for <UNK> and would recommend it to everyone to watch and the fly fishing was amazing really cried at the end it was so sad and you know what they say if you cry at a film it must have been good and this definitely was also <UNK> to the two little boy's that played the <UNK> of norman and paul they were just brilliant children are often left out of the <UNK> list i think because the stars that play them all grown up are such a big profile for the whole film but these children are amazing and should be praised for what they have done don't you think the whole story was so lovely because it was true and was someone's life after all that was shared with us all\""
      ]
     },
     "execution_count": 7,
     "metadata": {},
     "output_type": "execute_result"
    }
   ],
   "source": [
    "decode_review(train_data[0])"
   ]
  },
  {
   "cell_type": "code",
   "execution_count": 8,
   "metadata": {},
   "outputs": [],
   "source": [
    "train_data = keras.preprocessing.sequence.pad_sequences(train_data,\n",
    "                                                        value=word_index[\"<PAD>\"],\n",
    "                                                        padding='post',\n",
    "                                                        maxlen=256)\n",
    "\n",
    "test_data = keras.preprocessing.sequence.pad_sequences(test_data,\n",
    "                                                       value=word_index[\"<PAD>\"],\n",
    "                                                       padding='post',\n",
    "                                                       maxlen=256)"
   ]
  },
  {
   "cell_type": "code",
   "execution_count": 9,
   "metadata": {},
   "outputs": [
    {
     "data": {
      "text/plain": [
       "(256, 256)"
      ]
     },
     "execution_count": 9,
     "metadata": {},
     "output_type": "execute_result"
    }
   ],
   "source": [
    "len(train_data[0]), len(train_data[1])"
   ]
  },
  {
   "cell_type": "code",
   "execution_count": 10,
   "metadata": {},
   "outputs": [
    {
     "name": "stdout",
     "output_type": "stream",
     "text": [
      "[   1   14   22   16   43  530  973 1622 1385   65  458 4468   66 3941\n",
      "    4  173   36  256    5   25  100   43  838  112   50  670    2    9\n",
      "   35  480  284    5  150    4  172  112  167    2  336  385   39    4\n",
      "  172 4536 1111   17  546   38   13  447    4  192   50   16    6  147\n",
      " 2025   19   14   22    4 1920 4613  469    4   22   71   87   12   16\n",
      "   43  530   38   76   15   13 1247    4   22   17  515   17   12   16\n",
      "  626   18    2    5   62  386   12    8  316    8  106    5    4 2223\n",
      " 5244   16  480   66 3785   33    4  130   12   16   38  619    5   25\n",
      "  124   51   36  135   48   25 1415   33    6   22   12  215   28   77\n",
      "   52    5   14  407   16   82    2    8    4  107  117 5952   15  256\n",
      "    4    2    7 3766    5  723   36   71   43  530  476   26  400  317\n",
      "   46    7    4    2 1029   13  104   88    4  381   15  297   98   32\n",
      " 2071   56   26  141    6  194 7486   18    4  226   22   21  134  476\n",
      "   26  480    5  144   30 5535   18   51   36   28  224   92   25  104\n",
      "    4  226   65   16   38 1334   88   12   16  283    5   16 4472  113\n",
      "  103   32   15   16 5345   19  178   32    0    0    0    0    0    0\n",
      "    0    0    0    0    0    0    0    0    0    0    0    0    0    0\n",
      "    0    0    0    0    0    0    0    0    0    0    0    0    0    0\n",
      "    0    0    0    0]\n"
     ]
    }
   ],
   "source": [
    "print(train_data[0])"
   ]
  },
  {
   "cell_type": "code",
   "execution_count": 11,
   "metadata": {},
   "outputs": [
    {
     "name": "stderr",
     "output_type": "stream",
     "text": [
      "WARNING: Logging before flag parsing goes to stderr.\n",
      "W0707 22:25:48.359412 19932 deprecation.py:506] From C:\\Users\\Ramesh\\Anaconda3\\lib\\site-packages\\tensorflow\\python\\keras\\initializers.py:119: calling RandomUniform.__init__ (from tensorflow.python.ops.init_ops) with dtype is deprecated and will be removed in a future version.\n",
      "Instructions for updating:\n",
      "Call initializer instance with the dtype argument instead of passing it to the constructor\n",
      "W0707 22:25:48.397342 19932 deprecation.py:506] From C:\\Users\\Ramesh\\Anaconda3\\lib\\site-packages\\tensorflow\\python\\ops\\init_ops.py:1251: calling VarianceScaling.__init__ (from tensorflow.python.ops.init_ops) with dtype is deprecated and will be removed in a future version.\n",
      "Instructions for updating:\n",
      "Call initializer instance with the dtype argument instead of passing it to the constructor\n"
     ]
    },
    {
     "name": "stdout",
     "output_type": "stream",
     "text": [
      "Model: \"sequential\"\n",
      "_________________________________________________________________\n",
      "Layer (type)                 Output Shape              Param #   \n",
      "=================================================================\n",
      "embedding (Embedding)        (None, None, 16)          160000    \n",
      "_________________________________________________________________\n",
      "global_average_pooling1d (Gl (None, 16)                0         \n",
      "_________________________________________________________________\n",
      "dense (Dense)                (None, 16)                272       \n",
      "_________________________________________________________________\n",
      "dense_1 (Dense)              (None, 1)                 17        \n",
      "=================================================================\n",
      "Total params: 160,289\n",
      "Trainable params: 160,289\n",
      "Non-trainable params: 0\n",
      "_________________________________________________________________\n"
     ]
    }
   ],
   "source": [
    "# input shape is the vocabulary count used for the movie reviews (10,000 words)\n",
    "vocab_size = 10000\n",
    "\n",
    "model = keras.Sequential()\n",
    "model.add(keras.layers.Embedding(vocab_size, 16))\n",
    "model.add(keras.layers.GlobalAveragePooling1D())\n",
    "model.add(keras.layers.Dense(16, activation=tf.nn.relu))\n",
    "model.add(keras.layers.Dense(1, activation=tf.nn.sigmoid))\n",
    "\n",
    "model.summary()"
   ]
  },
  {
   "cell_type": "code",
   "execution_count": 12,
   "metadata": {},
   "outputs": [
    {
     "name": "stderr",
     "output_type": "stream",
     "text": [
      "W0707 22:25:52.078821 19932 deprecation.py:323] From C:\\Users\\Ramesh\\Anaconda3\\lib\\site-packages\\tensorflow\\python\\ops\\nn_impl.py:180: add_dispatch_support.<locals>.wrapper (from tensorflow.python.ops.array_ops) is deprecated and will be removed in a future version.\n",
      "Instructions for updating:\n",
      "Use tf.where in 2.0, which has the same broadcast rule as np.where\n"
     ]
    }
   ],
   "source": [
    "model.compile(optimizer='adam',\n",
    "              loss='binary_crossentropy',\n",
    "              metrics=['acc'])"
   ]
  },
  {
   "cell_type": "code",
   "execution_count": 13,
   "metadata": {},
   "outputs": [],
   "source": [
    "x_val = train_data[:10000]\n",
    "partial_x_train = train_data[10000:]\n",
    "\n",
    "y_val = train_labels[:10000]\n",
    "partial_y_train = train_labels[10000:]"
   ]
  },
  {
   "cell_type": "code",
   "execution_count": 14,
   "metadata": {},
   "outputs": [
    {
     "name": "stdout",
     "output_type": "stream",
     "text": [
      "Train on 15000 samples, validate on 10000 samples\n",
      "Epoch 1/40\n",
      "15000/15000 [==============================] - 1s 79us/sample - loss: 0.6912 - acc: 0.6118 - val_loss: 0.6885 - val_acc: 0.7246\n",
      "Epoch 2/40\n",
      "15000/15000 [==============================] - 1s 73us/sample - loss: 0.6835 - acc: 0.7496 - val_loss: 0.6780 - val_acc: 0.7462\n",
      "Epoch 3/40\n",
      "15000/15000 [==============================] - 1s 80us/sample - loss: 0.6668 - acc: 0.7636 - val_loss: 0.6571 - val_acc: 0.7610\n",
      "Epoch 4/40\n",
      "15000/15000 [==============================] - 1s 76us/sample - loss: 0.6387 - acc: 0.7705 - val_loss: 0.6256 - val_acc: 0.7628\n",
      "Epoch 5/40\n",
      "15000/15000 [==============================] - 1s 81us/sample - loss: 0.5990 - acc: 0.7975 - val_loss: 0.5846 - val_acc: 0.7900\n",
      "Epoch 6/40\n",
      "15000/15000 [==============================] - 1s 71us/sample - loss: 0.5498 - acc: 0.8183 - val_loss: 0.5383 - val_acc: 0.8106\n",
      "Epoch 7/40\n",
      "15000/15000 [==============================] - 1s 78us/sample - loss: 0.4973 - acc: 0.8371 - val_loss: 0.4907 - val_acc: 0.8260\n",
      "Epoch 8/40\n",
      "15000/15000 [==============================] - 1s 71us/sample - loss: 0.4478 - acc: 0.8550 - val_loss: 0.4494 - val_acc: 0.8405\n",
      "Epoch 9/40\n",
      "15000/15000 [==============================] - 1s 74us/sample - loss: 0.4042 - acc: 0.8701 - val_loss: 0.4145 - val_acc: 0.8505\n",
      "Epoch 10/40\n",
      "15000/15000 [==============================] - 1s 72us/sample - loss: 0.3671 - acc: 0.8803 - val_loss: 0.3868 - val_acc: 0.8570\n",
      "Epoch 11/40\n",
      "15000/15000 [==============================] - 1s 73us/sample - loss: 0.3366 - acc: 0.8892 - val_loss: 0.3648 - val_acc: 0.8646\n",
      "Epoch 12/40\n",
      "15000/15000 [==============================] - 1s 75us/sample - loss: 0.3112 - acc: 0.8949 - val_loss: 0.3479 - val_acc: 0.8678\n",
      "Epoch 13/40\n",
      "15000/15000 [==============================] - 1s 70us/sample - loss: 0.2903 - acc: 0.9013 - val_loss: 0.3335 - val_acc: 0.8722\n",
      "Epoch 14/40\n",
      "15000/15000 [==============================] - 1s 70us/sample - loss: 0.2715 - acc: 0.9071 - val_loss: 0.3228 - val_acc: 0.8748\n",
      "Epoch 15/40\n",
      "15000/15000 [==============================] - 1s 70us/sample - loss: 0.2555 - acc: 0.9119 - val_loss: 0.3143 - val_acc: 0.8779\n",
      "Epoch 16/40\n",
      "15000/15000 [==============================] - 1s 70us/sample - loss: 0.2411 - acc: 0.9177 - val_loss: 0.3071 - val_acc: 0.8783\n",
      "Epoch 17/40\n",
      "15000/15000 [==============================] - 1s 69us/sample - loss: 0.2278 - acc: 0.9214 - val_loss: 0.3012 - val_acc: 0.8814\n",
      "Epoch 18/40\n",
      "15000/15000 [==============================] - 1s 69us/sample - loss: 0.2159 - acc: 0.9253 - val_loss: 0.2971 - val_acc: 0.8826\n",
      "Epoch 19/40\n",
      "15000/15000 [==============================] - 1s 69us/sample - loss: 0.2052 - acc: 0.9283 - val_loss: 0.2927 - val_acc: 0.8836\n",
      "Epoch 20/40\n",
      "15000/15000 [==============================] - 1s 69us/sample - loss: 0.1955 - acc: 0.9330 - val_loss: 0.2901 - val_acc: 0.8845\n",
      "Epoch 21/40\n",
      "15000/15000 [==============================] - 1s 69us/sample - loss: 0.1854 - acc: 0.9392 - val_loss: 0.2878 - val_acc: 0.8857\n",
      "Epoch 22/40\n",
      "15000/15000 [==============================] - 1s 70us/sample - loss: 0.1770 - acc: 0.9427 - val_loss: 0.2866 - val_acc: 0.8853\n",
      "Epoch 23/40\n",
      "15000/15000 [==============================] - 1s 68us/sample - loss: 0.1687 - acc: 0.9464 - val_loss: 0.2866 - val_acc: 0.8837\n",
      "Epoch 24/40\n",
      "15000/15000 [==============================] - 1s 68us/sample - loss: 0.1615 - acc: 0.9493 - val_loss: 0.2855 - val_acc: 0.8851\n",
      "Epoch 25/40\n",
      "15000/15000 [==============================] - 1s 70us/sample - loss: 0.1541 - acc: 0.9521 - val_loss: 0.2854 - val_acc: 0.8860\n",
      "Epoch 26/40\n",
      "15000/15000 [==============================] - 1s 69us/sample - loss: 0.1474 - acc: 0.9549 - val_loss: 0.2868 - val_acc: 0.8832\n",
      "Epoch 27/40\n",
      "15000/15000 [==============================] - 1s 69us/sample - loss: 0.1412 - acc: 0.9576 - val_loss: 0.2870 - val_acc: 0.8844\n",
      "Epoch 28/40\n",
      "15000/15000 [==============================] - 1s 69us/sample - loss: 0.1353 - acc: 0.9595 - val_loss: 0.2883 - val_acc: 0.8842\n",
      "Epoch 29/40\n",
      "15000/15000 [==============================] - 1s 70us/sample - loss: 0.1300 - acc: 0.9623 - val_loss: 0.2911 - val_acc: 0.8840\n",
      "Epoch 30/40\n",
      "15000/15000 [==============================] - 1s 70us/sample - loss: 0.1244 - acc: 0.9635 - val_loss: 0.2912 - val_acc: 0.8847\n",
      "Epoch 31/40\n",
      "15000/15000 [==============================] - 1s 70us/sample - loss: 0.1189 - acc: 0.9665 - val_loss: 0.2932 - val_acc: 0.8853\n",
      "Epoch 32/40\n",
      "15000/15000 [==============================] - 1s 69us/sample - loss: 0.1140 - acc: 0.9689 - val_loss: 0.2956 - val_acc: 0.8853\n",
      "Epoch 33/40\n",
      "15000/15000 [==============================] - 1s 69us/sample - loss: 0.1093 - acc: 0.9701 - val_loss: 0.2988 - val_acc: 0.8845\n",
      "Epoch 34/40\n",
      "15000/15000 [==============================] - 1s 71us/sample - loss: 0.1050 - acc: 0.9711 - val_loss: 0.3014 - val_acc: 0.8832\n",
      "Epoch 35/40\n",
      "15000/15000 [==============================] - 1s 68us/sample - loss: 0.1008 - acc: 0.9732 - val_loss: 0.3056 - val_acc: 0.8833\n",
      "Epoch 36/40\n",
      "15000/15000 [==============================] - 1s 69us/sample - loss: 0.0967 - acc: 0.9745 - val_loss: 0.3078 - val_acc: 0.8831\n",
      "Epoch 37/40\n",
      "15000/15000 [==============================] - 1s 71us/sample - loss: 0.0926 - acc: 0.9763 - val_loss: 0.3110 - val_acc: 0.8823\n",
      "Epoch 38/40\n",
      "15000/15000 [==============================] - 1s 74us/sample - loss: 0.0890 - acc: 0.9778 - val_loss: 0.3154 - val_acc: 0.8814\n",
      "Epoch 39/40\n",
      "15000/15000 [==============================] - 1s 68us/sample - loss: 0.0859 - acc: 0.9787 - val_loss: 0.3203 - val_acc: 0.8798\n",
      "Epoch 40/40\n",
      "15000/15000 [==============================] - 1s 70us/sample - loss: 0.0819 - acc: 0.9802 - val_loss: 0.3226 - val_acc: 0.8808\n"
     ]
    }
   ],
   "source": [
    "history = model.fit(partial_x_train,\n",
    "                    partial_y_train,\n",
    "                    epochs=40,\n",
    "                    batch_size=512,\n",
    "                    validation_data=(x_val, y_val),\n",
    "                    verbose=1)"
   ]
  },
  {
   "cell_type": "code",
   "execution_count": 15,
   "metadata": {},
   "outputs": [
    {
     "name": "stdout",
     "output_type": "stream",
     "text": [
      "25000/25000 [==============================] - 1s 22us/sample - loss: 0.3449 - acc: 0.8689\n",
      "[0.3449472797012329, 0.86892]\n"
     ]
    }
   ],
   "source": [
    "results = model.evaluate(test_data, test_labels)\n",
    "\n",
    "print(results)"
   ]
  },
  {
   "cell_type": "code",
   "execution_count": null,
   "metadata": {},
   "outputs": [],
   "source": []
  }
 ],
 "metadata": {
  "kernelspec": {
   "display_name": "Python 3",
   "language": "python",
   "name": "python3"
  },
  "language_info": {
   "codemirror_mode": {
    "name": "ipython",
    "version": 3
   },
   "file_extension": ".py",
   "mimetype": "text/x-python",
   "name": "python",
   "nbconvert_exporter": "python",
   "pygments_lexer": "ipython3",
   "version": "3.6.8"
  }
 },
 "nbformat": 4,
 "nbformat_minor": 2
}
